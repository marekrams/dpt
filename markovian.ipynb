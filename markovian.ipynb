{
 "cells": [
  {
   "cell_type": "code",
   "execution_count": 1,
   "metadata": {},
   "outputs": [],
   "source": [
    "import os\n",
    "import numpy as np\n",
    "import matplotlib.pyplot as plt\n",
    "from pathlib import Path\n",
    "import yastn\n",
    "import yastn.tn.mps as mps\n",
    "from routines_new import Lindbladian_dpt_markovian, Lindbladian_dpt_markovian2, occupation,  Hamiltonian_dpt_4U_position"
   ]
  },
  {
   "cell_type": "code",
   "execution_count": 2,
   "metadata": {},
   "outputs": [
    {
     "ename": "YastnError",
     "evalue": "Legs have inconsistent dimensions.",
     "output_type": "error",
     "traceback": [
      "\u001b[0;31m---------------------------------------------------------------------------\u001b[0m",
      "\u001b[0;31mYastnError\u001b[0m                                Traceback (most recent call last)",
      "Cell \u001b[0;32mIn[2], line 1\u001b[0m\n\u001b[0;32m----> 1\u001b[0m H \u001b[38;5;241m=\u001b[39m Hamiltonian_dpt_4U_position(\u001b[38;5;241m16\u001b[39m, \u001b[38;5;241m0\u001b[39m, \u001b[38;5;241m0\u001b[39m, [\u001b[38;5;241m0\u001b[39m, \u001b[38;5;241m0\u001b[39m, \u001b[38;5;241m0\u001b[39m, \u001b[38;5;241m0\u001b[39m], [\u001b[38;5;241m0\u001b[39m, \u001b[38;5;241m0\u001b[39m], \u001b[38;5;241m0.125\u001b[39m, \u001b[38;5;241m2\u001b[39m)\n",
      "File \u001b[0;32m~/Projects/DPT/routines_new/_hamiltonians.py:275\u001b[0m, in \u001b[0;36mHamiltonian_dpt_4U_position\u001b[0;34m(NW, muL, muR, muSs, muDs, vS, U, w0, order, sym)\u001b[0m\n\u001b[1;32m    272\u001b[0m     terms\u001b[38;5;241m.\u001b[39mappend((U, (D(\u001b[38;5;241m1\u001b[39m), S(k)), [dn1 \u001b[38;5;241m-\u001b[39m dI, qn \u001b[38;5;241m-\u001b[39m qI \u001b[38;5;241m/\u001b[39m \u001b[38;5;241m2\u001b[39m]))\n\u001b[1;32m    274\u001b[0m Hterms \u001b[38;5;241m=\u001b[39m [mps\u001b[38;5;241m.\u001b[39mHterm(v, \u001b[38;5;28mtuple\u001b[39m(s2i[x] \u001b[38;5;28;01mfor\u001b[39;00m x \u001b[38;5;129;01min\u001b[39;00m p), o) \u001b[38;5;28;01mfor\u001b[39;00m v, p, o \u001b[38;5;129;01min\u001b[39;00m terms]\n\u001b[0;32m--> 275\u001b[0m H \u001b[38;5;241m=\u001b[39m mps\u001b[38;5;241m.\u001b[39mgenerate_mpo(II, Hterms)\n\u001b[1;32m    276\u001b[0m \u001b[38;5;28;01mreturn\u001b[39;00m H, s2i, i2s\n",
      "File \u001b[0;32m~/Programs/yastn/yastn/tn/mps/_generate_mpo.py:229\u001b[0m, in \u001b[0;36mgenerate_mpo\u001b[0;34m(I, terms, opts_svd, N, f_map)\u001b[0m\n\u001b[1;32m    226\u001b[0m     ifbs\u001b[38;5;241m.\u001b[39mappend(ifb)\n\u001b[1;32m    228\u001b[0m     base \u001b[38;5;241m=\u001b[39m {k: dressed_ops[k]\u001b[38;5;241m.\u001b[39mfuse_legs(axes\u001b[38;5;241m=\u001b[39m((\u001b[38;5;241m0\u001b[39m, \u001b[38;5;241m2\u001b[39m), \u001b[38;5;241m1\u001b[39m, \u001b[38;5;241m3\u001b[39m))\u001b[38;5;241m.\u001b[39mdrop_leg_history() \u001b[38;5;28;01mfor\u001b[39;00m k \u001b[38;5;129;01min\u001b[39;00m un}\n\u001b[0;32m--> 229\u001b[0m     basis\u001b[38;5;241m.\u001b[39mappend(block(base, common_legs\u001b[38;5;241m=\u001b[39m(\u001b[38;5;241m1\u001b[39m, \u001b[38;5;241m2\u001b[39m))\u001b[38;5;241m.\u001b[39mdrop_leg_history())\n\u001b[1;32m    231\u001b[0m tleft \u001b[38;5;241m=\u001b[39m \u001b[38;5;28mset\u001b[39m(t1bs[\u001b[38;5;241m0\u001b[39m]\u001b[38;5;241m.\u001b[39mvalues())\n\u001b[1;32m    232\u001b[0m \u001b[38;5;28;01mif\u001b[39;00m \u001b[38;5;28mlen\u001b[39m(tleft) \u001b[38;5;241m!=\u001b[39m \u001b[38;5;241m1\u001b[39m:\n",
      "File \u001b[0;32m~/Programs/yastn/yastn/initialize.py:512\u001b[0m, in \u001b[0;36mblock\u001b[0;34m(tensors, common_legs)\u001b[0m\n\u001b[1;32m    510\u001b[0m         legs_n[pa[n]]\u001b[38;5;241m.\u001b[39mappend(ll[n])\n\u001b[1;32m    511\u001b[0m legs\u001b[38;5;241m.\u001b[39mappend(legs_n)\n\u001b[0;32m--> 512\u001b[0m legs_n \u001b[38;5;241m=\u001b[39m {p: legs_union(\u001b[38;5;241m*\u001b[39mplegs) \u001b[38;5;28;01mfor\u001b[39;00m p, plegs \u001b[38;5;129;01min\u001b[39;00m legs_n\u001b[38;5;241m.\u001b[39mitems()}\n\u001b[1;32m    513\u001b[0m ulegs\u001b[38;5;241m.\u001b[39mappend(legs_n)\n\u001b[1;32m    514\u001b[0m pn \u001b[38;5;241m=\u001b[39m \u001b[38;5;28msorted\u001b[39m(legs_n\u001b[38;5;241m.\u001b[39mkeys())\n",
      "File \u001b[0;32m~/Programs/yastn/yastn/tensor/_legs.py:365\u001b[0m, in \u001b[0;36mlegs_union\u001b[0;34m(*legs)\u001b[0m\n\u001b[1;32m    363\u001b[0m tD \u001b[38;5;241m=\u001b[39m {t: D \u001b[38;5;28;01mfor\u001b[39;00m leg \u001b[38;5;129;01min\u001b[39;00m legs \u001b[38;5;28;01mfor\u001b[39;00m t, D \u001b[38;5;129;01min\u001b[39;00m \u001b[38;5;28mzip\u001b[39m(leg\u001b[38;5;241m.\u001b[39mt, leg\u001b[38;5;241m.\u001b[39mD)}\n\u001b[1;32m    364\u001b[0m \u001b[38;5;28;01mif\u001b[39;00m \u001b[38;5;28many\u001b[39m(tD[t] \u001b[38;5;241m!=\u001b[39m D \u001b[38;5;28;01mfor\u001b[39;00m leg \u001b[38;5;129;01min\u001b[39;00m legs \u001b[38;5;28;01mfor\u001b[39;00m t, D \u001b[38;5;129;01min\u001b[39;00m \u001b[38;5;28mzip\u001b[39m(leg\u001b[38;5;241m.\u001b[39mt, leg\u001b[38;5;241m.\u001b[39mD)):\n\u001b[0;32m--> 365\u001b[0m     \u001b[38;5;28;01mraise\u001b[39;00m YastnError(\u001b[38;5;124m'\u001b[39m\u001b[38;5;124mLegs have inconsistent dimensions.\u001b[39m\u001b[38;5;124m'\u001b[39m)\n\u001b[1;32m    366\u001b[0m tD \u001b[38;5;241m=\u001b[39m \u001b[38;5;28mdict\u001b[39m(\u001b[38;5;28msorted\u001b[39m(tD\u001b[38;5;241m.\u001b[39mitems()))\n\u001b[1;32m    367\u001b[0m t \u001b[38;5;241m=\u001b[39m \u001b[38;5;28mtuple\u001b[39m(tD\u001b[38;5;241m.\u001b[39mkeys())\n",
      "\u001b[0;31mYastnError\u001b[0m: Legs have inconsistent dimensions."
     ]
    }
   ],
   "source": [
    "H = Hamiltonian_dpt_4U_position(16, 0, 0, [0, 0, 0, 0], [0, 0], 0.125, 2)"
   ]
  },
  {
   "cell_type": "code",
   "execution_count": 8,
   "metadata": {},
   "outputs": [],
   "source": [
    "H = Lindbladian_dpt_markovian(0.125, 0.1, 0.01, 1)"
   ]
  },
  {
   "cell_type": "code",
   "execution_count": 9,
   "metadata": {},
   "outputs": [],
   "source": [
    "A = H[0]\n",
    "\n",
    "for j in range(1, H.N):\n",
    "    A = yastn.tensordot(A, H[j], axes=(2, 0))\n",
    "    A = yastn.fuse_legs(A, axes=(0, (1, 3), 4, (2, 5)))\n",
    "\n",
    "A = A.remove_leg(axis=2)\n",
    "A = A.remove_leg(axis=0)\n"
   ]
  },
  {
   "cell_type": "code",
   "execution_count": 10,
   "metadata": {},
   "outputs": [],
   "source": [
    "vec = vectorI(7)\n",
    "occ = occupation(7)\n",
    "B = occ[0]\n",
    "for j in range(1, occ.N):\n",
    "    B = yastn.tensordot(B, occ[j], axes=(2, 0))\n",
    "    B = yastn.fuse_legs(B, axes=(0, (1, 3), 4, (2, 5)))\n",
    "\n",
    "B = B.remove_leg(axis=2)\n",
    "B = B.remove_leg(axis=0)\n",
    "\n",
    "C = vec[0]\n",
    "for j in range(1, vec.N):\n",
    "    C = yastn.tensordot(C, vec[j], axes=(2, 0))\n",
    "    C = yastn.fuse_legs(C, axes=(0, (1, 2), 3))\n",
    "\n",
    "C = C.remove_leg(axis=2)\n",
    "C = C.remove_leg(axis=0)"
   ]
  },
  {
   "cell_type": "code",
   "execution_count": 11,
   "metadata": {},
   "outputs": [
    {
     "data": {
      "text/plain": [
       "_Fusion(tree=(2, 1, 1), op='poo', s=(1, 1, -1), t=(((0,), (1,)), ((0,), (1,))), D=((1, 1), (1, 1)))"
      ]
     },
     "execution_count": 11,
     "metadata": {},
     "output_type": "execute_result"
    }
   ],
   "source": [
    "vec[5].get_legs(axes=1).hf"
   ]
  },
  {
   "cell_type": "code",
   "execution_count": 12,
   "metadata": {},
   "outputs": [
    {
     "name": "stdout",
     "output_type": "stream",
     "text": [
      "(4, 4)\n",
      "(32, 32)\n",
      "(112, 112)\n",
      "(224, 224)\n",
      "(280, 280)\n",
      "(224, 224)\n",
      "(112, 112)\n",
      "(32, 32)\n",
      "(4, 4)\n",
      "(4, 4)\n",
      "(48, 48)\n",
      "(264, 264)\n",
      "(880, 880)\n",
      "(1980, 1980)\n",
      "(3168, 3168)\n",
      "(3696, 3696)\n",
      "(3168, 3168)\n",
      "(1980, 1980)\n",
      "(880, 880)\n",
      "(264, 264)\n",
      "(48, 48)\n",
      "(4, 4)\n",
      "(256,)\n"
     ]
    }
   ],
   "source": [
    "for x in A.get_blocks_shape():\n",
    "    print(x)\n",
    "for x in B.get_blocks_shape():\n",
    "    print(x)\n",
    "for x in C.get_blocks_shape():\n",
    "    print(x)"
   ]
  },
  {
   "cell_type": "code",
   "execution_count": 89,
   "metadata": {},
   "outputs": [
    {
     "name": "stdout",
     "output_type": "stream",
     "text": [
      "0.00999999999999969\n",
      "0.13849254275631903\n",
      "0.00999999999999944\n",
      "0.07566681498536287\n",
      "0.00999999999999967\n",
      "0.06052872605111279\n",
      "3.022885437801462e-15\n",
      "0.060528726051111995\n",
      "0.009999999999999044\n",
      "0.07566681498536287\n",
      "0.009999999999998944\n",
      "0.13849254275631878\n",
      "0.00999999999999849\n"
     ]
    }
   ],
   "source": [
    "for t in A.struct.t:\n",
    "    x = A[t]\n",
    "    S = np.linalg.eig(x)\n",
    "    print(np.sort(np.abs(S.eigenvalues))[0])"
   ]
  },
  {
   "cell_type": "code",
   "execution_count": 13,
   "metadata": {},
   "outputs": [
    {
     "name": "stdout",
     "output_type": "stream",
     "text": [
      "[3.09015999e-16 6.42432555e-04 2.76392755e-03 2.76392755e-03\n",
      " 3.17657737e-03 3.28111753e-03 5.52785510e-03 5.81573420e-03\n",
      " 7.23607245e-03 7.23607245e-03 7.39541245e-03 7.43373592e-03\n",
      " 1.00000000e-02 1.00000000e-02 1.00000000e-02 1.00000000e-02\n",
      " 1.00000000e-02 1.00000000e-02 1.00000000e-02 1.00000000e-02]\n"
     ]
    }
   ],
   "source": [
    "t = (0, 0)\n",
    "x = A[t]\n",
    "S = np.linalg.eig(x)\n",
    "print(np.sort(np.abs(S.eigenvalues))[0: 20])"
   ]
  },
  {
   "cell_type": "code",
   "execution_count": 6,
   "metadata": {},
   "outputs": [
    {
     "name": "stdout",
     "output_type": "stream",
     "text": [
      "[3.02288544e-15 2.49314849e-04 1.07773751e-03 1.07781612e-03\n",
      " 1.24709735e-03 1.28200893e-03 2.15535128e-03 2.27965155e-03\n",
      " 3.49380543e-03 3.49457102e-03 3.63179835e-03 3.64328747e-03\n",
      " 4.57213795e-03 4.57251516e-03 4.57275405e-03 4.57342611e-03\n",
      " 4.64433879e-03 4.64738073e-03 4.65631049e-03 4.66557673e-03]\n"
     ]
    }
   ],
   "source": [
    "t = (0, 0)\n",
    "x = A[t]\n",
    "S = np.linalg.eig(x)\n",
    "print(np.sort(np.abs(S.eigenvalues))[0: 20])"
   ]
  },
  {
   "cell_type": "code",
   "execution_count": 100,
   "metadata": {},
   "outputs": [
    {
     "data": {
      "text/plain": [
       "(-0-0j)"
      ]
     },
     "execution_count": 100,
     "metadata": {},
     "output_type": "execute_result"
    }
   ],
   "source": [
    "pp = yastn.zeros(A.config, legs=[A.get_legs(axes=0)], dtype='complex128')\n",
    "ii = np.argmin(np.abs(S.eigenvalues))\n",
    "pp[(0,)] = S.eigenvectors[ii]\n",
    "\n",
    "yastn.vdot(C, B @ pp) / yastn.vdot(C, pp)"
   ]
  }
 ],
 "metadata": {
  "kernelspec": {
   "display_name": "yastn",
   "language": "python",
   "name": "python3"
  },
  "language_info": {
   "codemirror_mode": {
    "name": "ipython",
    "version": 3
   },
   "file_extension": ".py",
   "mimetype": "text/x-python",
   "name": "python",
   "nbconvert_exporter": "python",
   "pygments_lexer": "ipython3",
   "version": "3.12.4"
  }
 },
 "nbformat": 4,
 "nbformat_minor": 2
}
